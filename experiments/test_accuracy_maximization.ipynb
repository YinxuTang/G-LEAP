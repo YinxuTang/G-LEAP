{
 "cells": [
  {
   "cell_type": "code",
   "execution_count": 1,
   "id": "b43cf43a-bbcb-44ec-be81-541fece0c8d7",
   "metadata": {},
   "outputs": [],
   "source": [
    "# For inline plotting\n",
    "%matplotlib inline\n",
    "\n",
    "# For auto reloading\n",
    "%load_ext autoreload\n",
    "%autoreload 2\n"
   ]
  },
  {
   "cell_type": "code",
   "execution_count": 2,
   "id": "ad284499-6a70-4ed6-ad00-8942b3742ca5",
   "metadata": {},
   "outputs": [
    {
     "name": "stdout",
     "output_type": "stream",
     "text": [
      "# of super arms: 10\n",
      "\n",
      "mean_reward_array: [0.52 0.6  0.84 0.68 0.7  0.88 0.76 0.9  0.8  0.92]\n",
      "objective value (-result.fun): 0.8400000000459272\n",
      "result:      con: array([-1.21152643e-10])\n",
      "     fun: -0.8400000000459272\n",
      " message: 'Optimization terminated successfully.'\n",
      "     nit: 5\n",
      "   slack: array([-4.73234785e-10])\n",
      "  status: 0\n",
      " success: True\n",
      "       x: array([6.21074187e-11, 1.40923158e-11, 4.08004650e-01, 1.97331783e-01,\n",
      "       3.57278366e-12, 4.68006706e-13, 8.14331620e-11, 2.05500567e-11,\n",
      "       3.39096022e-11, 3.94663566e-01])\n",
      "\n",
      "mean_reward_array: [0.6 0.7 1.  0.8 0.9 1.2 1.  1.3 1.1 1.4]\n",
      "objective value (-result.fun): 1.2000000001566962\n",
      "result:      con: array([-1.44229295e-10])\n",
      "     fun: -1.2000000001566962\n",
      " message: 'Optimization terminated successfully.'\n",
      "     nit: 5\n",
      "   slack: array([-9.3699537e-10])\n",
      "  status: 0\n",
      " success: True\n",
      "       x: array([2.96514370e-11, 4.26335441e-12, 3.89294164e-11, 3.33333333e-01,\n",
      "       1.66012337e-12, 2.42534229e-11, 3.89294164e-11, 9.79200418e-12,\n",
      "       1.13414293e-11, 6.66666667e-01])\n",
      "\n"
     ]
    }
   ],
   "source": [
    "import itertools\n",
    "\n",
    "import numpy as np\n",
    "from scipy.optimize import linprog\n",
    "\n",
    "\n",
    "# The hyperparameters\n",
    "NUM_ARM = 5\n",
    "NUM_SELECTION = 2\n",
    "ACCURACY_ARRAY = np.array([ 0.2, 0.4, 0.5, 0.8, 0.6 ], dtype=float)\n",
    "ENERGY_CONSUMPTION_ARRAY = np.array([ 1.0, 3.0, 6.0, 4.0, 2.0 ], dtype=float)\n",
    "ENERGY_BUDGET = 5.0\n",
    "# NUM_ARM = 3\n",
    "# NUM_SELECTION = 2\n",
    "# ACCURACY_ARRAY = np.array([ 0.2, 0.4, 0.8 ], dtype=float)\n",
    "# ENERGY_CONSUMPTION_ARRAY = np.array([ 1.0, 3.0, 6.0 ], dtype=float)\n",
    "# ENERGY_BUDGET = 5.0\n",
    "# Calculate the minimum feasible budget value\n",
    "MINIMUM_FEASIBLE_ENERGY_BUDGET = sum(sorted(ENERGY_CONSUMPTION_ARRAY)[:NUM_SELECTION])\n",
    "\n",
    "\n",
    "# Enumerate the super arms\n",
    "combinations = [ i for i in itertools.combinations(range(NUM_ARM), NUM_SELECTION) ]\n",
    "print(\"# of super arms: {:d}\".format(len(combinations)))\n",
    "print()\n",
    "\n",
    "\n",
    "\n",
    "# Calculate the array of the mean reward of pulling each super arm\n",
    "mean_reward_array_1 = np.array([ 1 - np.prod(1 - ACCURACY_ARRAY[list(combination)]) for combination in combinations ])\n",
    "mean_reward_array_2 = np.array([ np.sum(ACCURACY_ARRAY[list(combination)]) for combination in combinations ])\n",
    "\n",
    "\n",
    "# Calculate the array of the mean energy consumption of pulling each super arm\n",
    "mean_energy_consumption_array = np.array([ np.sum(ENERGY_CONSUMPTION_ARRAY[list(combination)]) for combination in combinations ]).reshape((1, len(combinations)))\n",
    "\n",
    "\n",
    "def solve_optimization_problem(mean_reward_array):\n",
    "    print(\"mean_reward_array:\", mean_reward_array)\n",
    "    \n",
    "    # Solve the linear program\n",
    "    if ENERGY_BUDGET < MINIMUM_FEASIBLE_ENERGY_BUDGET:\n",
    "        print(\"Infeasible energy budget b = {:.2f}, replaced with the minimum feasible b = {:.2f}\".format(self.b, self._minimum_feasible_b))\n",
    "        bound = MINIMUM_FEASIBLE_ENERGY_BUDGET\n",
    "    else:\n",
    "        bound = ENERGY_BUDGET\n",
    "    result = linprog(-mean_reward_array, A_ub=mean_energy_consumption_array, b_ub=np.array([bound]), A_eq=np.ones((1, len(combinations)), dtype=float), b_eq=np.array([1]), bounds=[(0.0, 1.0) for _ in range(len(combinations))])\n",
    "#     print(\"result.x:\", result.x)\n",
    "    print(\"objective value (-result.fun):\", -result.fun)\n",
    "#     print(\"result.status:\", result.status)\n",
    "#     print(\"result.message:\", result.message)\n",
    "    print(\"result:\", result)\n",
    "    print()\n",
    "\n",
    "\n",
    "solve_optimization_problem(mean_reward_array_1)\n",
    "solve_optimization_problem(mean_reward_array_2)\n"
   ]
  },
  {
   "cell_type": "code",
   "execution_count": null,
   "id": "04095612-f4f1-418d-8469-7dd2f20a285d",
   "metadata": {},
   "outputs": [],
   "source": []
  }
 ],
 "metadata": {
  "kernelspec": {
   "display_name": "Python 3 (ipykernel)",
   "language": "python",
   "name": "python3"
  },
  "language_info": {
   "codemirror_mode": {
    "name": "ipython",
    "version": 3
   },
   "file_extension": ".py",
   "mimetype": "text/x-python",
   "name": "python",
   "nbconvert_exporter": "python",
   "pygments_lexer": "ipython3",
   "version": "3.9.5"
  }
 },
 "nbformat": 4,
 "nbformat_minor": 5
}
