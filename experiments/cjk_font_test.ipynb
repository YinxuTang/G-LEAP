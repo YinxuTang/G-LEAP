{
 "cells": [
  {
   "cell_type": "code",
   "execution_count": 1,
   "id": "44886f83-c001-4c73-b381-955ae2d577a3",
   "metadata": {},
   "outputs": [],
   "source": [
    "# For Matplotlib inline plotting\n",
    "%matplotlib inline\n",
    "\n",
    "# For auto reloading\n",
    "%load_ext autoreload\n",
    "%autoreload 2\n"
   ]
  },
  {
   "cell_type": "code",
   "execution_count": 2,
   "id": "3ae05f40-bf6a-4a01-bf78-b2f856b915a6",
   "metadata": {},
   "outputs": [
    {
     "name": "stdout",
     "output_type": "stream",
     "text": [
      "matplotlib.__version__: 3.5.1\n",
      "Default backend: module://matplotlib_inline.backend_inline\n",
      "Backend is now: module://mplcairo.base\n",
      "Figures saved!\n",
      "cjk_font_test.eps: 1.7MB\n",
      "cjk_font_test.pdf: 1.7MB\n",
      "cjk_font_test.png: 90.4KB\n"
     ]
    }
   ],
   "source": [
    "from pathlib import Path\n",
    "\n",
    "import numpy as np\n",
    "import matplotlib\n",
    "print(\"matplotlib.__version__:\", matplotlib.__version__)\n",
    "print('Default backend:', matplotlib.get_backend())\n",
    "matplotlib.use(\"module://mplcairo.base\")\n",
    "# matplotlib.use(\"cairo\")\n",
    "print('Backend is now:', matplotlib.get_backend())\n",
    "import matplotlib.font_manager as fm\n",
    "import matplotlib.pyplot as plt\n",
    "matplotlib.rcParams['pdf.fonttype'] = 42\n",
    "matplotlib.rcParams['ps.fonttype'] = 42\n",
    "\n",
    "\n",
    "def format_size(num, suffix=\"B\"):\n",
    "    \"\"\"Reference: https://stackoverflow.com/a/1094933\n",
    "    \"\"\"\n",
    "#     for unit in [\"\", \"Ki\", \"Mi\", \"Gi\", \"Ti\", \"Pi\", \"Ei\", \"Zi\"]:\n",
    "    for unit in [\"\", \"K\", \"M\", \"G\", \"T\", \"P\", \"E\", \"Z\"]:\n",
    "        if abs(num) < 1024.0:\n",
    "            return f\"{num:3.1f}{unit}{suffix}\"\n",
    "        num /= 1024.0\n",
    "#     return f\"{num:.1f}Yi{suffix}\"\n",
    "    return f\"{num:.1f}Y{suffix}\"\n",
    "\n",
    "\n",
    "# CHINESE_FP = fm.FontProperties(fname='./font/source_han_serif_sc_regular.otf', math_fontfamily=\"stix\")\n",
    "CHINESE_FP = fm.FontProperties(fname='./font/noto_serif_sc_regular.otf', math_fontfamily=\"stix\")\n",
    "# CHINESE_FP = fm.FontProperties(fname='./font/source_han_serif_sc_vf.ttf', math_fontfamily=\"stix\")\n",
    "# CHINESE_FP = fm.FontProperties(fname='./font/source_han_serif_cn_regular.ttf', math_fontfamily=\"stix\")\n",
    "# CHINESE_FP = fm.FontProperties(fname='./font/source_han_serif_regular.ttc', math_fontfamily=\"stix\")\n",
    "\n",
    "\n",
    "fig, ax = plt.subplots(figsize=(8,6), dpi=300)\n",
    "plt.setp(ax.get_xticklabels(), fontsize=20.0, fontweight=\"normal\", fontproperties=CHINESE_FP)\n",
    "plt.setp(ax.get_yticklabels(), fontsize=20.0, fontweight=\"normal\", fontproperties=CHINESE_FP)\n",
    "\n",
    "# import mplcairo\n",
    "# ax.plot(range(100000), np.random.rand(100000), linewidth=6.0, antialiased=mplcairo.antialias_t.FAST)\n",
    "ax.plot(range(100000), np.random.rand(100000), linewidth=6.0)\n",
    "\n",
    "ax.set_xlabel(r'测试中文字体 Normal', fontsize=28.0, fontweight=\"normal\", fontproperties=CHINESE_FP)\n",
    "ax.set_ylabel(r'测试中文字体 Bold', fontsize=28.0, fontweight=\"bold\", fontproperties=CHINESE_FP)\n",
    "# Save the figure\n",
    "fig.savefig('./cjk_font_test.pdf', format='pdf', bbox_inches='tight')\n",
    "fig.savefig('./cjk_font_test.eps', format='eps', bbox_inches='tight')\n",
    "fig.savefig('./cjk_font_test.png', format='png', bbox_inches='tight')\n",
    "\n",
    "print(\"Figures saved!\")\n",
    "\n",
    "\n",
    "# Display the sizes\n",
    "pathlist = [ Path(\"./cjk_font_test.pdf\"), Path(\"./cjk_font_test.eps\"), Path(\"./cjk_font_test.png\") ]\n",
    "for path in sorted(pathlist):\n",
    "    print(\"{:s}: {:s}\".format(path.name, format_size(path.stat().st_size)))\n"
   ]
  },
  {
   "cell_type": "code",
   "execution_count": null,
   "id": "fee8eb54-5ca0-4b02-b456-2571771ae642",
   "metadata": {},
   "outputs": [],
   "source": []
  }
 ],
 "metadata": {
  "kernelspec": {
   "display_name": "Python 3 (ipykernel)",
   "language": "python",
   "name": "python3"
  },
  "language_info": {
   "codemirror_mode": {
    "name": "ipython",
    "version": 3
   },
   "file_extension": ".py",
   "mimetype": "text/x-python",
   "name": "python",
   "nbconvert_exporter": "python",
   "pygments_lexer": "ipython3",
   "version": "3.9.5"
  }
 },
 "nbformat": 4,
 "nbformat_minor": 5
}
