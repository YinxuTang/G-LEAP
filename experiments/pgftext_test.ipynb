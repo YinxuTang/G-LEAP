{
 "cells": [
  {
   "cell_type": "code",
   "execution_count": 1,
   "id": "44886f83-c001-4c73-b381-955ae2d577a3",
   "metadata": {},
   "outputs": [],
   "source": [
    "# For Matplotlib inline plotting\n",
    "%matplotlib inline\n",
    "\n",
    "# For auto reloading\n",
    "%load_ext autoreload\n",
    "%autoreload 2\n"
   ]
  },
  {
   "cell_type": "code",
   "execution_count": 2,
   "id": "3ae05f40-bf6a-4a01-bf78-b2f856b915a6",
   "metadata": {},
   "outputs": [
    {
     "name": "stdout",
     "output_type": "stream",
     "text": [
      "matplotlib.__version__: 3.5.1\n",
      "Default backend: module://matplotlib_inline.backend_inline\n",
      "Backend is now: module://util.mpl_pgftext\n",
      "Figures saved!\n"
     ]
    }
   ],
   "source": [
    "from pathlib import Path\n",
    "\n",
    "import numpy as np\n",
    "import matplotlib\n",
    "print(\"matplotlib.__version__:\", matplotlib.__version__)\n",
    "print('Default backend:', matplotlib.get_backend())\n",
    "matplotlib.use(\"module://util.mpl_pgftext\")\n",
    "# matplotlib.use(\"module://mplcairo.base\")\n",
    "# matplotlib.use(\"cairo\")\n",
    "print('Backend is now:', matplotlib.get_backend())\n",
    "import matplotlib.pyplot as plt\n",
    "matplotlib.rcParams['pdf.fonttype'] = 42\n",
    "matplotlib.rcParams['ps.fonttype'] = 42\n",
    "\n",
    "\n",
    "def format_size(num, suffix=\"B\"):\n",
    "    \"\"\"Reference: https://stackoverflow.com/a/1094933\n",
    "    \"\"\"\n",
    "    for unit in [\"\", \"K\", \"M\", \"G\", \"T\", \"P\", \"E\", \"Z\"]:\n",
    "        if abs(num) < 1024.0:\n",
    "            return f\"{num:3.1f}{unit}{suffix}\"\n",
    "        num /= 1024.0\n",
    "    return f\"{num:.1f}Y{suffix}\"\n",
    "\n",
    "\n",
    "# Plot and save figures\n",
    "fig, ax = plt.subplots(figsize=(8,6), dpi=300)\n",
    "for i in range(5):\n",
    "    ax.plot(range(100000), np.random.rand(100000), linewidth=2.0)\n",
    "fig.savefig('./pgftext_test.pgf', format='pgf', bbox_inches='tight')\n",
    "# fig.savefig('./pgftext_test.pdf', format='pdf', bbox_inches='tight')\n",
    "# fig.savefig('./pgftext_test.eps', format='eps', bbox_inches='tight')\n",
    "# fig.savefig('./pgftext_test.png', format='png', bbox_inches='tight')\n",
    "print(\"Figures saved!\")\n",
    "\n",
    "\n",
    "# # Display the sizes\n",
    "# pathlist = [ Path(\"./pgftext_test.pgf\"), Path(\"./pgftext_test.pdf\"), Path(\"./pgftext_test.eps\"), Path(\"./pgftext_test.png\") ]\n",
    "# for path in sorted(pathlist):\n",
    "#     print(\"{:s}: {:s}\".format(path.name, format_size(path.stat().st_size)))\n"
   ]
  },
  {
   "cell_type": "code",
   "execution_count": null,
   "id": "fee8eb54-5ca0-4b02-b456-2571771ae642",
   "metadata": {},
   "outputs": [],
   "source": []
  }
 ],
 "metadata": {
  "kernelspec": {
   "display_name": "Python 3 (ipykernel)",
   "language": "python",
   "name": "python3"
  },
  "language_info": {
   "codemirror_mode": {
    "name": "ipython",
    "version": 3
   },
   "file_extension": ".py",
   "mimetype": "text/x-python",
   "name": "python",
   "nbconvert_exporter": "python",
   "pygments_lexer": "ipython3",
   "version": "3.9.5"
  }
 },
 "nbformat": 4,
 "nbformat_minor": 5
}
